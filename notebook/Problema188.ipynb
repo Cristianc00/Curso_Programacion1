{
 "cells": [
  {
   "cell_type": "code",
   "execution_count": 1,
   "id": "a0ff2795",
   "metadata": {},
   "outputs": [
    {
     "name": "stdout",
     "output_type": "stream",
     "text": [
      "89 es un número primo.\n"
     ]
    }
   ],
   "source": [
    "def es_primo(numero):\n",
    "    \"\"\"\n",
    "    Determina si un número entero positivo es primo.\n",
    "\n",
    "    Args:\n",
    "        numero: El número entero positivo a verificar.\n",
    "\n",
    "    Returns:\n",
    "        True si el número es primo, False en caso contrario.\n",
    "    \"\"\"\n",
    "    if numero <= 1:\n",
    "        return False\n",
    "    # Contar cuántos divisores tiene el número\n",
    "    contador_divisores = 0\n",
    "    for i in range(1, numero + 1):\n",
    "        if numero % i == 0:\n",
    "            contador_divisores += 1\n",
    "\n",
    "    # Un número primo tiene exactamente dos divisores: 1 y él mismo\n",
    "    if contador_divisores == 2:\n",
    "        return True\n",
    "    else:\n",
    "        return False\n",
    "\n",
    "# Solicitar al usuario que ingrese un número\n",
    "try:\n",
    "    num = int(input(\"Ingresa un número entero positivo: \"))\n",
    "    if num < 0:\n",
    "        print(\"Por favor, ingresa un número entero positivo.\")\n",
    "    else:\n",
    "        if es_primo(num):\n",
    "            print(f\"{num} es un número primo.\")\n",
    "        else:\n",
    "            print(f\"{num} no es un número primo.\")\n",
    "except ValueError:\n",
    "    print(\"Entrada inválida. Por favor, ingresa un número entero.\")"
   ]
  }
 ],
 "metadata": {
  "kernelspec": {
   "display_name": "Python 3",
   "language": "python",
   "name": "python3"
  },
  "language_info": {
   "codemirror_mode": {
    "name": "ipython",
    "version": 3
   },
   "file_extension": ".py",
   "mimetype": "text/x-python",
   "name": "python",
   "nbconvert_exporter": "python",
   "pygments_lexer": "ipython3",
   "version": "3.13.2"
  }
 },
 "nbformat": 4,
 "nbformat_minor": 5
}
