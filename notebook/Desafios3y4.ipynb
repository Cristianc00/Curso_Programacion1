{
 "cells": [
  {
   "cell_type": "code",
   "execution_count": 2,
   "id": "57f86f0d",
   "metadata": {},
   "outputs": [
    {
     "name": "stdout",
     "output_type": "stream",
     "text": [
      "Los grados Celsius son: 22\n",
      "71.6 grados Fahrenheit son:22\n",
      "295.15 Kelvin son: 22\n"
     ]
    }
   ],
   "source": [
    "celsius = 22\n",
    "\n",
    "# Conversión a Fahrenheit\n",
    "fahrenheit = (celsius * 9/5) + 32\n",
    "\n",
    "# Conversión a Kelvin\n",
    "kelvin = celsius + 273.15\n",
    "\n",
    "# Imprimir los resultados\n",
    "print(f\"Los grados Celsius son: {celsius}\")\n",
    "print(f\"{fahrenheit} grados Fahrenheit son:{celsius}\")\n",
    "print(f\"{kelvin} Kelvin son: {celsius}\")"
   ]
  },
  {
   "cell_type": "markdown",
   "id": "49b4b913",
   "metadata": {},
   "source": [
    "<a id=\"des4\"> </a>\n",
    "# Desafío 4: Verificar múltiplos de varios números\n",
    "Objetivo: Determinar si un número dado es múltiplo de 2, 3, 5, 7, 9, 10, y 11 utilizando comparaciones y operadores lógicos.\n",
    "\n",
    "*Descripción:*\n",
    "Crea un programa que, dado un número, verifique si es múltiplo de los números mencionados. Para cada uno de estos números, el programa debe indicar si el número dado es o no un múltiplo de estos.\n",
    "\n",
    "_Ejemplo de lo que se debe lograr:_\n",
    "Supongamos que el número dado es 30. El programa deberá determinar:\n",
    "\n",
    "¿Es 30 múltiplo de 2? Sí\n",
    "\n",
    "¿Es 30 múltiplo de 3? Sí\n",
    "\n",
    "¿Es 30 múltiplo de 5? Sí\n",
    "\n",
    "¿Es 30 múltiplo de 7? No\n",
    "\n",
    "¿Es 30 múltiplo de 9? No\n",
    "\n",
    "¿Es 30 múltiplo de 10? Sí\n",
    "\n",
    "¿Es 30 múltiplo de 11? No\n"
   ]
  },
  {
   "cell_type": "code",
   "execution_count": 8,
   "id": "4dc4e7ff",
   "metadata": {},
   "outputs": [
    {
     "name": "stdout",
     "output_type": "stream",
     "text": [
      "¿Es 30 múltiplo de 2? Sí\n",
      "¿Es 30 múltiplo de 3? Sí\n",
      "¿Es 30 múltiplo de 5? Sí\n",
      "¿Es 30 múltiplo de 7? No\n",
      "¿Es 30 múltiplo de 9? No\n",
      "¿Es 30 múltiplo de 10? Sí\n",
      "¿Es 30 múltiplo de 11? No\n",
      "\n",
      "--- Probando con otro número ---\n",
      "¿Es 63 múltiplo de 2? No\n",
      "¿Es 63 múltiplo de 3? Sí\n",
      "¿Es 63 múltiplo de 5? No\n",
      "¿Es 63 múltiplo de 7? Sí\n",
      "¿Es 63 múltiplo de 9? Sí\n",
      "¿Es 63 múltiplo de 10? No\n",
      "¿Es 63 múltiplo de 11? No\n"
     ]
    }
   ],
   "source": [
    "def verificar_multiplos(numero):\n",
    "  \"\"\"\n",
    "  Verifica si un número dado es múltiplo de 2, 3, 5, 7, 9, 10 y 11.\n",
    "\n",
    "  Args:\n",
    "    numero: El número entero que se va a verificar.\n",
    "  \"\"\"\n",
    "  multiplos = [2, 3, 5, 7, 9, 10, 11]\n",
    "  for divisor in multiplos:\n",
    "    if numero % divisor == 0:\n",
    "      print(f\"¿Es {numero} múltiplo de {divisor}? Sí\")\n",
    "    else:\n",
    "      print(f\"¿Es {numero} múltiplo de {divisor}? No\")\n",
    "\n",
    "numero_a_verificar = 30\n",
    "verificar_multiplos(numero_a_verificar)\n",
    "\n",
    "print(\"\\n--- Probando con otro número ---\")\n",
    "otro_numero = 63\n",
    "verificar_multiplos(otro_numero)"
   ]
  }
 ],
 "metadata": {
  "kernelspec": {
   "display_name": "Python 3",
   "language": "python",
   "name": "python3"
  },
  "language_info": {
   "codemirror_mode": {
    "name": "ipython",
    "version": 3
   },
   "file_extension": ".py",
   "mimetype": "text/x-python",
   "name": "python",
   "nbconvert_exporter": "python",
   "pygments_lexer": "ipython3",
   "version": "3.13.2"
  }
 },
 "nbformat": 4,
 "nbformat_minor": 5
}
