{
 "cells": [
  {
   "cell_type": "code",
   "execution_count": 21,
   "id": "57f86f0d",
   "metadata": {},
   "outputs": [
    {
     "name": "stdout",
     "output_type": "stream",
     "text": [
      "Los grados Celsius son: 22 \n",
      "los 22 grados Celsius son 71.6 grados Fahrenheit\n",
      "los 22 grados Celsius son 295.15 grados Kelvin\n"
     ]
    }
   ],
   "source": [
    "celsius = 22\n",
    "\n",
    "# Conversión a Fahrenheit\n",
    "fahrenheit = (celsius * 9/5) + 32\n",
    "\n",
    "# Conversión a Kelvin\n",
    "kelvin = celsius + 273.15\n",
    "\n",
    "# Imprimir los resultados\n",
    "print(f\"Los grados Celsius son: {celsius} \")\n",
    "print(f\"los {celsius} grados Celsius son {fahrenheit} grados Fahrenheit\")\n",
    "print(f\"los {celsius} grados Celsius son {kelvin} grados Kelvin\")\n",
    "\n",
    "\n",
    "\n",
    "\n",
    "\n",
    "\n",
    "\n",
    "\n",
    "\n",
    "\n",
    "\n",
    "\n",
    "\n",
    "\n"
   ]
  },
  {
   "cell_type": "markdown",
   "id": "b04c3985",
   "metadata": {},
   "source": [
    "Se define la variable celsius y le asignamos directaente el valor de la temperatura que vamos a convertir, en este caso, 22.\n",
    "Se realiza el calculo para convertir de Celsius a Fahrenheit y el resultado se asigna directamente a la variable fahrenheit.\n",
    "Se utiliza"
   ]
  },
  {
   "cell_type": "markdown",
   "id": "88e00a53",
   "metadata": {},
   "source": [
    "WEBGRAFIA: Gemini [text](https://gemini.google.com/app/300eec25fc7ed7bc?hl=es)"
   ]
  },
  {
   "cell_type": "markdown",
   "id": "49b4b913",
   "metadata": {},
   "source": [
    "<a id=\"des4\"> </a>\n",
    "# Desafío 4: Verificar múltiplos de varios números\n",
    "Objetivo: Determinar si un número dado es múltiplo de 2, 3, 5, 7, 9, 10, y 11 utilizando comparaciones y operadores lógicos.\n",
    "\n",
    "*Descripción:*\n",
    "Crea un programa que, dado un número, verifique si es múltiplo de los números mencionados. Para cada uno de estos números, el programa debe indicar si el número dado es o no un múltiplo de estos.\n",
    "\n",
    "_Ejemplo de lo que se debe lograr:_\n",
    "Supongamos que el número dado es 30. El programa deberá determinar:\n",
    "\n",
    "¿Es 30 múltiplo de 2? Sí\n",
    "\n",
    "¿Es 30 múltiplo de 3? Sí\n",
    "\n",
    "¿Es 30 múltiplo de 5? Sí\n",
    "\n",
    "¿Es 30 múltiplo de 7? No\n",
    "\n",
    "¿Es 30 múltiplo de 9? No\n",
    "\n",
    "¿Es 30 múltiplo de 10? Sí\n",
    "\n",
    "¿Es 30 múltiplo de 11? No\n"
   ]
  },
  {
   "cell_type": "code",
   "execution_count": 22,
   "id": "4dc4e7ff",
   "metadata": {},
   "outputs": [
    {
     "name": "stdout",
     "output_type": "stream",
     "text": [
      "¿Es 63 múltiplo de 2? No\n",
      "¿Es 63 múltiplo de 3? Sí\n",
      "¿Es 63 múltiplo de 5? No\n",
      "¿Es 63 múltiplo de 7? Sí\n",
      "¿Es 63 múltiplo de 9? Sí\n",
      "¿Es 63 múltiplo de 10? No\n",
      "¿Es 63 múltiplo de 11? No\n"
     ]
    }
   ],
   "source": [
    "def verificar_multiplos(numero):\n",
    "  \"\"\"\n",
    "  Verifica si un número dado es múltiplo de 2, 3, 5, 7, 9, 10 y 11.\n",
    "\n",
    "  Args:\n",
    "    numero: El número entero que se va a verificar.\n",
    "  \"\"\"\n",
    "  multiplos = [2, 3, 5, 7, 9, 10, 11]\n",
    "  for divisor in multiplos:\n",
    "    if numero % divisor == 0:\n",
    "      print(f\"¿Es {numero} múltiplo de {divisor}? Sí\")\n",
    "    else:\n",
    "      print(f\"¿Es {numero} múltiplo de {divisor}? No\")\n",
    "\n",
    "numero_a_verificar = 63\n",
    "verificar_multiplos(numero_a_verificar)\n"
   ]
  },
  {
   "cell_type": "markdown",
   "id": "a284d939",
   "metadata": {},
   "source": [
    "Creamos una funcion llamada verifiar_numero que toma el numero que queremos analizar.\n",
    "Dentro de la función, definimos una lista llamada multiplos, que contiene los números que queremos verificar(2,3,5,7,9,10,11).\n",
    "Usamos un bucle for para recorrer cada divior en la lista multiples.\n",
    "Dentro del bucle, utilizamos el operador modulo (%), este devuelve el resto de una división. Si el resto de la división de numero entre divisor es 0, signifia que numero es un multiplo de divisor."
   ]
  },
  {
   "cell_type": "markdown",
   "id": "f2d70cba",
   "metadata": {},
   "source": [
    "WEBGRAFIA: Gemini [text](https://gemini.google.com/app/689e9ceb57465dda?hl=es)"
   ]
  },
  {
   "cell_type": "markdown",
   "id": "745fbac4",
   "metadata": {},
   "source": [
    "Repositorio en GitHub [text](https://github.com/Cristianc00/Curso_Programacion1?tab=readme-ov-file)"
   ]
  }
 ],
 "metadata": {
  "kernelspec": {
   "display_name": "Python 3",
   "language": "python",
   "name": "python3"
  },
  "language_info": {
   "codemirror_mode": {
    "name": "ipython",
    "version": 3
   },
   "file_extension": ".py",
   "mimetype": "text/x-python",
   "name": "python",
   "nbconvert_exporter": "python",
   "pygments_lexer": "ipython3",
   "version": "3.13.2"
  }
 },
 "nbformat": 4,
 "nbformat_minor": 5
}
