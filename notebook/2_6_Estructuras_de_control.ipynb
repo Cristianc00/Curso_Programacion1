{
  "cells": [
    {
      "cell_type": "markdown",
      "metadata": {
        "id": "UG0BflsZQk3v"
      },
      "source": [
        "# 6. Estructuras de control"
      ]
    },
    {
      "cell_type": "markdown",
      "metadata": {
        "id": "R5HHsfjCQpiW"
      },
      "source": [
        "En cualquier programa, es esencial poder controlar el flujo de la ejecución. Aquí es donde entran en juego las estructuras de control, que nos permiten tomar decisiones y repetir acciones en nuestros programas. Antes de adentrarnos en los detalles de estas estructuras, recordemos algunos conceptos fundamentales de tipos de datos y operadores que hemos visto previamente. Los tipos de datos, como enteros, cadenas y booleanos, junto con los operadores de comparación y lógicos, son fundamentales para evaluar las condiciones que rigen nuestras decisiones. Además, la entrada y salida de datos nos permiten interactuar con el usuario, obteniendo información necesaria y mostrando resultados relevantes. Estas habilidades serán cruciales al trabajar con declaraciones condicionales, como if, elif y else, que nos permiten desarrollar programas dinámicos que responden a diferentes situaciones. Vamos a explorar estas estructuras de control en más detalle."
      ]
    },
    {
      "cell_type": "markdown",
      "metadata": {
        "id": "S9WqCCHyQt-6"
      },
      "source": [
        "## a. Cruce de decisiones: Condicionales"
      ]
    },
    {
      "cell_type": "markdown",
      "metadata": {
        "id": "9qq9Wp-5Qv-0"
      },
      "source": [
        "Las estructuras de control son como los signos de tráfico en el camino de la ejecución de nuestro programa. Nos permiten tomar decisiones basadas en diferentes condiciones y repetir ciertas acciones hasta que se cumpla una condición. En Python, los condicionales se manejan con las palabras clave if, elif y else.\n",
        "\n",
        "Vamos a imaginar que estamos desarrollando un programa para determinar si un estudiante ha aprobado o reprobado un examen basado en su calificación."
      ]
    },
    {
      "cell_type": "code",
      "execution_count": null,
      "metadata": {
        "id": "R0NsZaZvQ1f5"
      },
      "outputs": [],
      "source": [
        "calificacion = int(input(\"Por favor ingrese la calificación del estudiante: \"))\n",
        "\n",
        "if calificacion >= 6:\n",
        "    print(\"El estudiante ha aprobado el examen.\")\n",
        "else:\n",
        "    print(\"El estudiante ha reprobado el examen.\")"
      ]
    },
    {
      "cell_type": "markdown",
      "metadata": {
        "id": "KlZiQh96RCvG"
      },
      "source": [
        "En este ejemplo, el programa pide al usuario que ingrese la calificación del estudiante. Luego, usa una declaración if para comprobar si la calificación es igual o superior a 6. Si es así, el programa imprime un mensaje diciendo que el estudiante ha aprobado. Si no es así, el programa imprime un mensaje diciendo que el estudiante ha reprobado."
      ]
    },
    {
      "cell_type": "markdown",
      "metadata": {},
      "source": [
        "A menudo, cuando programamos, nos encontramos con situaciones donde no basta con preguntar \"¿es esto cierto o falso?\". La realidad suele ser más compleja y necesitamos considerar múltiples condiciones. Por ejemplo, ¿qué pasa si queremos saber si un número es positivo, negativo o cero? No podemos limitarnos a una sola pregunta. Aquí es donde el uso de elif se vuelve esencial, permitiéndonos manejar varios escenarios posibles con claridad y precisión."
      ]
    },
    {
      "cell_type": "code",
      "execution_count": null,
      "metadata": {},
      "outputs": [],
      "source": [
        "numero = float(input(\"Ingrese un número: \"))\n",
        "\n",
        "if numero > 0:\n",
        "    print(f\"{numero} es un número positivo.\")\n",
        "elif numero == 0:\n",
        "    print(f\"{numero} es cero.\")\n",
        "else:\n",
        "    print(f\"{numero} es un número negativo.\")"
      ]
    },
    {
      "cell_type": "markdown",
      "metadata": {},
      "source": [
        "A veces, nos encontramos en situaciones donde queremos asignar un valor a una variable dependiendo de una condición específica. Por ejemplo, queremos saber si un número es par o impar y asignar un valor basado en esa condición. En Python, podemos hacer esto de manera concisa utilizando expresiones condicionales en una sola línea. Esta técnica nos permite escribir código más limpio y directo. Aquí está la solución:"
      ]
    },
    {
      "cell_type": "code",
      "execution_count": null,
      "metadata": {},
      "outputs": [],
      "source": [
        "numero = int(input(\"Ingrese un número: \"))\n",
        "tipo_numero = \"par\" if numero % 2 == 0 else \"impar\"\n",
        "print(f\"El número {numero} es {tipo_numero}.\")"
      ]
    },
    {
      "cell_type": "markdown",
      "metadata": {
        "id": "dUMswdU3RFJs"
      },
      "source": [
        "## b. Ciclos terminables: Bucles 'for'"
      ]
    },
    {
      "cell_type": "markdown",
      "metadata": {
        "id": "ataNihYiRHqQ"
      },
      "source": [
        "En ocasiones, necesitaremos repetir una acción varias veces. Aquí es donde los bucles entran en juego. Python ofrece dos tipos de bucles: for y while.\n",
        "\n",
        "Para ilustrar cómo funcionan, vamos a usar un ejemplo simple. Supongamos que queremos imprimir los números del 1 al 5."
      ]
    },
    {
      "cell_type": "code",
      "execution_count": null,
      "metadata": {
        "id": "vCaDA9g5RLTj"
      },
      "outputs": [],
      "source": [
        "for numero in range(1, 6):\n",
        "    print(numero)"
      ]
    },
    {
      "cell_type": "markdown",
      "metadata": {
        "id": "eDRQRryUROIi"
      },
      "source": [
        "En este caso, el bucle for recorre los números del 1 al 5 (el límite superior en range() es exclusivo), imprimiendo cada número en la consola.\n",
        "\n",
        "Las estructuras de control, los condicionales y los bucles son fundamentales en la programación. Nos permiten crear programas más dinámicos y flexibles, capaces de tomar decisiones y repetir tareas basadas en las condiciones que definamos."
      ]
    },
    {
      "cell_type": "markdown",
      "metadata": {
        "id": "V-uEdgXwRQ86"
      },
      "source": [
        "## c. Please, stop the 'while'"
      ]
    },
    {
      "cell_type": "markdown",
      "metadata": {},
      "source": [
        "Primero vamos a ver que es \"while\", es un bucle que repite un bloque de codigo mientras sea verdadera, en nuestras palabras imaginemos que tenemos 10 ml de agua este estara con agua que es nuestra verdad hasta que lo terminamos ahi paso a ser falso entonces se terminaria el bucle"
      ]
    },
    {
      "cell_type": "markdown",
      "metadata": {
        "id": "mR47-zpZS6SE"
      },
      "source": [
        "Vamos a aplicar nuestro conocimiento recién adquirido sobre bucles para resolver un problema real: calcular el promedio de las calificaciones de un estudiante. Supongamos que un estudiante nos proporciona sus calificaciones una por una. El estudiante indicará que ha terminado de proporcionar las calificaciones ingresando el número 0."
      ]
    },
    {
      "cell_type": "code",
      "execution_count": null,
      "metadata": {
        "id": "dOIrCor0S8sH"
      },
      "outputs": [],
      "source": [
        "suma_calificaciones = 0\n",
        "contador_asignaturas = 0\n",
        "\n",
        "calificacion = int(input(\"Ingrese una calificación (entre 1 y 12) o 0 para terminar: \"))\n",
        "\n",
        "while calificacion != 0:\n",
        "    suma_calificaciones += calificacion\n",
        "    contador_asignaturas += 1\n",
        "    calificacion = int(input(\"Ingrese una calificación (entre 1 y 12) o 0 para terminar: \"))\n",
        "\n",
        "promedio = suma_calificaciones / contador_asignaturas\n",
        "print(f\"El promedio de las calificaciones es: {promedio}\")"
      ]
    },
    {
      "cell_type": "markdown",
      "metadata": {
        "id": "yd1hyqUfTZxw"
      },
      "source": [
        "En este código, el bucle while se ejecuta hasta que el estudiante ingrese 0. Si bien es sencillo y cumple con su objetivo, este código no verifica si las calificaciones ingresadas están dentro del rango válido (1 a 12)."
      ]
    },
    {
      "cell_type": "markdown",
      "metadata": {
        "id": "OIoa2RMNTaeq"
      },
      "source": [
        "## d. Controlando el flujo con 'break' y 'continue'"
      ]
    },
    {
      "cell_type": "markdown",
      "metadata": {
        "id": "_N5yXORgTfjB"
      },
      "source": [
        "Ahora, vamos a mejorar nuestro código anterior incorporando las declaraciones break y continue para un mejor control del flujo del programa y la validación de las calificaciones."
      ]
    },
    {
      "cell_type": "markdown",
      "metadata": {
        "id": "5OpG-Wx1TrIM"
      },
      "source": [
        "En este código, la declaración break se utiliza para detener el bucle cuando el estudiante ingresa 0. Por otro lado, la declaración continue se usa para saltar a la próxima iteración del bucle si la calificación ingresada no está dentro del rango válido, evitando así que calificaciones incorrectas se sumen a suma_calificaciones y se cuenten en contador_asignaturas."
      ]
    },
    {
      "cell_type": "code",
      "execution_count": null,
      "metadata": {
        "id": "Xc8_XEQPTiRQ"
      },
      "outputs": [],
      "source": [
        "suma_calificaciones = 0\n",
        "contador_asignaturas = 0\n",
        "\n",
        "while True:\n",
        "    calificacion = int(input(\"Ingrese una calificación (entre 1 y 12) o 0 para terminar: \"))\n",
        "    \n",
        "    if calificacion == 0:\n",
        "        break\n",
        "    \n",
        "    if calificacion < 1 or calificacion > 12:\n",
        "        print(\"La calificación debe estar entre 1 y 12. Inténtalo de nuevo.\")\n",
        "        continue\n",
        "\n",
        "    suma_calificaciones += calificacion\n",
        "    contador_asignaturas += 1\n",
        "\n",
        "promedio = suma_calificaciones / contador_asignaturas\n",
        "print(f\"El promedio de las calificaciones es: {promedio}\")"
      ]
    },
    {
      "cell_type": "markdown",
      "metadata": {
        "id": "F-ti-8L-V0lP"
      },
      "source": [
        "## Desafío 1: Calificaciones aprobadas \n",
        "\n",
        "Supón que estás analizando las calificaciones de los estudiantes y quieres saber cuántos aprobaron y cuántos desaprobaron. Se considera que una calificación de 7 o superior es aprobatoria y cualquier calificación menor a 7 es desaprobatoria. Utiliza lo que aprendiste sobre bucles y condicionales para resolver este problema."
      ]
    },
    {
      "cell_type": "code",
      "execution_count": 22,
      "metadata": {},
      "outputs": [
        {
          "name": "stdout",
          "output_type": "stream",
          "text": [
            "La cantidad de estudiantes aprobados fueron de 7\n",
            "La cantidad de estudiantes desaprobados de 6\n"
          ]
        }
      ],
      "source": [
        "def analizar_calificaciones(calificaciones):\n",
        "  aprobados = 0\n",
        "  desaprobados = 0\n",
        "  for calificacion in calificaciones:\n",
        "    if calificacion >= 7:\n",
        "      aprobados += 1\n",
        "    else:\n",
        "      desaprobados += 1\n",
        "  return {\"aprobados\": aprobados, \"desaprobados\": desaprobados}\n",
        "\n",
        "lista_de_calificaciones = [8, 5, 9, 6, 7, 10, 4, 8, 7, 6, 1, 11, 3]\n",
        "resultados = analizar_calificaciones(lista_de_calificaciones)\n",
        "\n",
        "print(f\"La cantidad de estudiantes aprobados fueron de {resultados['aprobados']}\")\n",
        "print(f\"La cantidad de estudiantes desaprobados de {resultados['desaprobados']}\")"
      ]
    },
    {
      "cell_type": "markdown",
      "metadata": {},
      "source": [
        "Definimos una función llamada analizar_calificaciones que toma una lista de calificaciones como entrada.\n",
        "Inicializamos dos contadores: aprobados y desaprobados en 0.\n",
        "Iteramos a través de cada calificacion en la lista.\n",
        "Dentro del bucle, verificamos si la calificacion es mayor o igual a 7.\n",
        "Si es así, incrementamos el contador de aprobados.\n",
        "De lo contrario, incrementamos el contador de desaprobados.\n",
        "Finalmente, la función devuelve un diccionario que contiene la cantidad de estudiantes aprobados y desaprobados.\n",
        "Luego, creamos una lista de ejemplo llamada lista_de_calificaciones y llamamos a la función analizar_calificaciones con esta lista.\n"
      ]
    },
    {
      "cell_type": "markdown",
      "metadata": {
        "id": "QCwpO0XhV_oA"
      },
      "source": [
        "## Desafío 2: Mejora del cálculo\n",
        "\n",
        "Toma el ejemplo del cálculo del promedio de calificaciones y mejóralo. En lugar de pedir las calificaciones una por una, modifica el código para pedir todas las calificaciones al mismo tiempo (el estudiante puede ingresar las calificaciones separadas por comas) y luego calcular el promedio."
      ]
    },
    {
      "cell_type": "code",
      "execution_count": 1,
      "metadata": {},
      "outputs": [
        {
          "name": "stdout",
          "output_type": "stream",
          "text": [
            "¡El promedio final de las calificaciones es: 2.00!\n"
          ]
        }
      ],
      "source": [
        "def calcular_promedio_calificaciones_multiple():\n",
        "  entrada_calificaciones = input(\"Ingrese las calificaciones separadas por comas: \")\n",
        "  calificaciones_str = entrada_calificaciones.split(',')\n",
        "  calificaciones = []\n",
        "  for calificacion_str in calificaciones_str:\n",
        "    try:\n",
        "      calificacion = float(calificacion_str.strip())\n",
        "      calificaciones.append(calificacion)\n",
        "    except ValueError:\n",
        "      print(f\"¡Ojo! '{calificacion_str.strip()}' no parece una calificación válida y la ignoraré.\")\n",
        "\n",
        "  if calificaciones:\n",
        "    promedio = sum(calificaciones) / len(calificaciones)\n",
        "    return promedio\n",
        "  else:\n",
        "    return None\n",
        "\n",
        "# Ejemplo de uso\n",
        "promedio_final = calcular_promedio_calificaciones_multiple()\n",
        "\n",
        "if promedio_final is not None:\n",
        "  print(f\"¡El promedio final de las calificaciones es: {promedio_final:.2f}!\")\n",
        "else:\n",
        "  print(\"No ingresaste ninguna calificación válida. ¡Inténtalo de nuevo!\")"
      ]
    },
    {
      "cell_type": "markdown",
      "metadata": {},
      "source": [
        "Le pedimos al usuario que escriba todas las calificaciones en una sola vez, usando la coma como separador. Por ejemplo: 8, 10, 9, 7, 12, 5\n",
        "Usamos el método split(',') en la cadena de entrada. Esto divide la cadena en una lista de subcadenas, donde cada subcadena es una de las calificaciones ingresadas.\n",
        "Si el usuario no ingresa ninguna calificación válida, la lista calificaciones estará vacía y la función devolverá None. El código principal maneja este caso y lo informa."
      ]
    },
    {
      "cell_type": "markdown",
      "metadata": {
        "id": "DGHX8zGvWK5k"
      },
      "source": [
        "## Desafío 3: Simulación de una carrera de autos\n",
        "\n",
        "Vas a simular una carrera de autos. Cada auto tiene una velocidad aleatoria (puedes usar la biblioteca random de Python) y cada ciclo del bucle representa un segundo de la carrera. Al final de cada segundo, cada auto avanza una distancia igual a su velocidad. La carrera dura 10 segundos. Al final de la carrera, debes imprimir el auto ganador. Si hay un empate, debes imprimir todos los autos que empataron.\n",
        "\n",
        "*Nota:* Este desafío puede requerir que aprendas sobre conceptos adicionales, por ejemplo cómo generar números aleatorios."
      ]
    },
    {
      "cell_type": "code",
      "execution_count": 4,
      "metadata": {},
      "outputs": [
        {
          "name": "stdout",
          "output_type": "stream",
          "text": [
            "¡Comienza la carrera!\n",
            "\n",
            "--- Segundo 1 ---\n",
            "Rayo McQueen avanzó 5 metros. Distancia total: 5 metros.\n",
            "Chick Hicks avanzó 10 metros. Distancia total: 10 metros.\n",
            "Strip Weathers avanzó 13 metros. Distancia total: 13 metros.\n",
            "Meteoro avanzó 5 metros. Distancia total: 5 metros.\n",
            "\n",
            "--- Segundo 2 ---\n",
            "Rayo McQueen avanzó 5 metros. Distancia total: 10 metros.\n",
            "Chick Hicks avanzó 10 metros. Distancia total: 20 metros.\n",
            "Strip Weathers avanzó 13 metros. Distancia total: 26 metros.\n",
            "Meteoro avanzó 5 metros. Distancia total: 10 metros.\n",
            "\n",
            "--- Segundo 3 ---\n",
            "Rayo McQueen avanzó 5 metros. Distancia total: 15 metros.\n",
            "Chick Hicks avanzó 10 metros. Distancia total: 30 metros.\n",
            "Strip Weathers avanzó 13 metros. Distancia total: 39 metros.\n",
            "Meteoro avanzó 5 metros. Distancia total: 15 metros.\n",
            "\n",
            "--- Segundo 4 ---\n",
            "Rayo McQueen avanzó 5 metros. Distancia total: 20 metros.\n",
            "Chick Hicks avanzó 10 metros. Distancia total: 40 metros.\n",
            "Strip Weathers avanzó 13 metros. Distancia total: 52 metros.\n",
            "Meteoro avanzó 5 metros. Distancia total: 20 metros.\n",
            "\n",
            "--- Segundo 5 ---\n",
            "Rayo McQueen avanzó 5 metros. Distancia total: 25 metros.\n",
            "Chick Hicks avanzó 10 metros. Distancia total: 50 metros.\n",
            "Strip Weathers avanzó 13 metros. Distancia total: 65 metros.\n",
            "Meteoro avanzó 5 metros. Distancia total: 25 metros.\n",
            "\n",
            "--- Segundo 6 ---\n",
            "Rayo McQueen avanzó 5 metros. Distancia total: 30 metros.\n",
            "Chick Hicks avanzó 10 metros. Distancia total: 60 metros.\n",
            "Strip Weathers avanzó 13 metros. Distancia total: 78 metros.\n",
            "Meteoro avanzó 5 metros. Distancia total: 30 metros.\n",
            "\n",
            "--- Segundo 7 ---\n",
            "Rayo McQueen avanzó 5 metros. Distancia total: 35 metros.\n",
            "Chick Hicks avanzó 10 metros. Distancia total: 70 metros.\n",
            "Strip Weathers avanzó 13 metros. Distancia total: 91 metros.\n",
            "Meteoro avanzó 5 metros. Distancia total: 35 metros.\n",
            "\n",
            "--- Segundo 8 ---\n",
            "Rayo McQueen avanzó 5 metros. Distancia total: 40 metros.\n",
            "Chick Hicks avanzó 10 metros. Distancia total: 80 metros.\n",
            "Strip Weathers avanzó 13 metros. Distancia total: 104 metros.\n",
            "Meteoro avanzó 5 metros. Distancia total: 40 metros.\n",
            "\n",
            "--- Segundo 9 ---\n",
            "Rayo McQueen avanzó 5 metros. Distancia total: 45 metros.\n",
            "Chick Hicks avanzó 10 metros. Distancia total: 90 metros.\n",
            "Strip Weathers avanzó 13 metros. Distancia total: 117 metros.\n",
            "Meteoro avanzó 5 metros. Distancia total: 45 metros.\n",
            "\n",
            "--- Segundo 10 ---\n",
            "Rayo McQueen avanzó 5 metros. Distancia total: 50 metros.\n",
            "Chick Hicks avanzó 10 metros. Distancia total: 100 metros.\n",
            "Strip Weathers avanzó 13 metros. Distancia total: 130 metros.\n",
            "Meteoro avanzó 5 metros. Distancia total: 50 metros.\n",
            "\n",
            "--- ¡Carrera Terminada! ---\n",
            "¡El ganador es Strip Weathers con una distancia de 130 metros!\n"
          ]
        }
      ],
      "source": [
        "import random\n",
        "\n",
        "def simular_carrera(nombres_autos, duracion=10):\n",
        "  velocidades = {nombre: random.randint(5, 15) for nombre in nombres_autos} # Velocidad entre 5 y 15 m/s\n",
        "  distancias = {nombre: 0 for nombre in nombres_autos}\n",
        "\n",
        "  print(\"¡Comienza la carrera!\")\n",
        "  for segundo in range(1, duracion + 1):\n",
        "    print(f\"\\n--- Segundo {segundo} ---\")\n",
        "    for nombre in nombres_autos:\n",
        "      velocidad = velocidades[nombre]\n",
        "      distancias[nombre] += velocidad\n",
        "      print(f\"{nombre} avanzó {velocidad} metros. Distancia total: {distancias[nombre]} metros.\")\n",
        "\n",
        "  # Determinar el ganador o los ganadores\n",
        "  distancia_maxima = max(distancias.values())\n",
        "  ganadores = [nombre for nombre, distancia in distancias.items() if distancia == distancia_maxima]\n",
        "\n",
        "  print(\"\\n--- ¡Carrera Terminada! ---\")\n",
        "  if len(ganadores) == 1:\n",
        "    print(f\"¡El ganador es {ganadores[0]} con una distancia de {distancia_maxima} metros!\")\n",
        "  else:\n",
        "    print(f\"¡Empate entre {', '.join(ganadores)} con una distancia de {distancia_maxima} metros!\")\n",
        "\n",
        "  return distancias\n",
        "\n",
        "# Nombres de los autos participantes\n",
        "autos = [\"Rayo McQueen\", \"Chick Hicks\", \"Strip Weathers\", \"Meteoro\"]\n",
        "\n",
        "# Simular la carrera\n",
        "resultados = simular_carrera(autos)"
      ]
    },
    {
      "cell_type": "markdown",
      "metadata": {
        "id": "RLrgqVsaVxSZ"
      },
      "source": [
        "# Problemas"
      ]
    },
    {
      "cell_type": "markdown",
      "metadata": {
        "id": "-aldGZ8yVyJ_"
      },
      "source": [
        "## Problema: Cálculo de gastos de un viaje\n",
        "\n",
        "Supongamos que estás planeando un viaje y quieres calcular el total de gastos estimados. Tienes un arreglo de los diferentes conceptos de gastos (por ejemplo, transporte, alojamiento, alimentación, actividades, etc.) y quieres solicitar al usuario que ingrese el costo estimado para cada concepto. Al final, quieres mostrar el total de gastos estimados para el viaje.\n",
        "\n",
        "Planteamiento del problema:\n",
        "* Crea un arreglo de conceptos de gastos.\n",
        "* Utiliza un bucle for para iterar sobre el arreglo y solicitar al usuario que ingrese el costo estimado para cada concepto.\n",
        "* Utiliza una variable para realizar el seguimiento del total de gastos estimados, inicializada en 0.\n",
        "* Dentro del bucle, agrega el costo ingresado a la variable del total de gastos estimados.\n",
        "* Al final del bucle, muestra el total de gastos estimados.\n",
        "\n",
        "Aquí tienes un ejemplo de cómo podrías resolver este desafío utilizando arreglos:"
      ]
    },
    {
      "cell_type": "code",
      "execution_count": null,
      "metadata": {
        "id": "A9duJ5uFYY81"
      },
      "outputs": [],
      "source": [
        "import numpy as np\n",
        "\n",
        "conceptos_gastos = np.array(['Transporte', 'Alojamiento', 'Alimentación', 'Actividades', 'Otros'])\n",
        "\n",
        "total_gastos = 0\n",
        "\n",
        "for concepto in conceptos_gastos:\n",
        "    costo = float(input(f\"Ingrese el costo estimado para {concepto}: \"))\n",
        "    total_gastos += costo\n",
        "\n",
        "print(f\"El total de gastos estimados para el viaje es: {total_gastos}\")"
      ]
    },
    {
      "cell_type": "markdown",
      "metadata": {
        "id": "jI7zImR4YjP2"
      },
      "source": [
        "En este código, utilizamos un bucle for para iterar sobre el arreglo de conceptos de gastos. En cada iteración, solicitamos al usuario que ingrese el costo estimado para ese concepto y lo sumamos al total de gastos estimados. Al final, mostramos el resultado.\n",
        "\n",
        "¡Ahora puedes calcular fácilmente el total de gastos estimados para tu próximo viaje utilizando arreglos! ¡Es asombroso cómo Python nos permite resolver problemas de manera eficiente y sencilla! No te preocupes, en el próximo cuaderno exploraremos más a fondo los conceptos y funcionalidades de los arreglos en Python."
      ]
    },
    {
      "cell_type": "markdown",
      "metadata": {
        "id": "_OndWBmaYovM"
      },
      "source": [
        "## Problema: Análisis de calificaciones utilizando Pandas y bucles \n",
        "Supongamos que tienes un archivo CSV llamado \"calificaciones.csv\" que contiene las calificaciones de varios estudiantes. Tu objetivo es realizar un análisis de las calificaciones utilizando la biblioteca Pandas y bucles for.\n",
        "\n",
        "\n",
        "*Planteamiento del problema:*\n",
        "Importa la biblioteca Pandas.\n",
        "Carga el archivo CSV \"calificaciones.csv\" en un DataFrame de Pandas.\n",
        "Utiliza un bucle for para calcular el promedio de cada estudiante y mostrarlo en la consola.\n",
        "\n",
        "Aquí tienes un ejemplo de cómo podrías resolver este desafío utilizando Pandas y bucles for:"
      ]
    },
    {
      "cell_type": "code",
      "execution_count": null,
      "metadata": {
        "id": "ycHLwAYcbSob"
      },
      "outputs": [],
      "source": [
        "import pandas as pd\n",
        "\n",
        "# Carga el archivo CSV en un DataFrame\n",
        "df = pd.read_csv(\"calificaciones.csv\")\n",
        "\n",
        "# Inicializa variables para calcular el promedio general\n",
        "total_calificaciones = 0\n",
        "numero_calificaciones = 0\n",
        "\n",
        "# Utiliza un bucle for para sumar todas las calificaciones\n",
        "for index, row in df.iterrows():\n",
        "    nombre = row['Nombre']\n",
        "    calificacion = int(row['Calificacion'])\n",
        "    total_calificaciones += calificacion\n",
        "    numero_calificaciones += 1\n",
        "    print(f\"La calificación de {nombre} es: {calificacion}\")\n",
        "\n",
        "# Calcula el promedio general\n",
        "promedio_general = total_calificaciones / numero_calificaciones\n",
        "print(f\"El promedio general de las calificaciones es: {promedio_general:.2f}\")\n"
      ]
    },
    {
      "cell_type": "markdown",
      "metadata": {
        "id": "jOSCW8hyauFA"
      },
      "source": [
        "En este código, utilizamos Pandas para cargar el archivo CSV en un DataFrame. Luego, utilizamos un bucle for junto con iterrows() para iterar sobre cada fila del DataFrame. Para cada estudiante, extraemos el nombre y la calificación, para luego calcular el promedio."
      ]
    }
  ],
  "metadata": {
    "colab": {
      "provenance": [],
      "toc_visible": true
    },
    "kernelspec": {
      "display_name": "Python 3",
      "name": "python3"
    },
    "language_info": {
      "codemirror_mode": {
        "name": "ipython",
        "version": 3
      },
      "file_extension": ".py",
      "mimetype": "text/x-python",
      "name": "python",
      "nbconvert_exporter": "python",
      "pygments_lexer": "ipython3",
      "version": "3.13.2"
    }
  },
  "nbformat": 4,
  "nbformat_minor": 0
}
